{
  "nbformat": 4,
  "nbformat_minor": 0,
  "metadata": {
    "colab": {
      "provenance": [],
      "collapsed_sections": []
    },
    "kernelspec": {
      "name": "python3",
      "display_name": "Python 3"
    },
    "language_info": {
      "name": "python"
    }
  },
  "cells": [
    {
      "cell_type": "markdown",
      "source": [
        "Model hazırlanması ve Eğitimi"
      ],
      "metadata": {
        "id": "-znhGLWzEmXZ"
      }
    },
    {
      "cell_type": "markdown",
      "source": [
        "Verilerin Alınması:"
      ],
      "metadata": {
        "id": "HRtDZxJtSNwZ"
      }
    },
    {
      "cell_type": "code",
      "source": [
        "import pandas as pd\n",
        "X_train=pd.read_csv(\"/content/X_train.csv\")\n",
        "X_test=pd.read_csv(\"/content/X_test.csv\")\n",
        "X_valid=pd.read_csv(\"/content/X_valid.csv\")\n",
        "y_train=pd.read_csv(\"/content/y_train.csv\")\n",
        "y_test=pd.read_csv(\"/content/y_test.csv\")\n",
        "y_valid=pd.read_csv(\"/content/y_valid.csv\")"
      ],
      "metadata": {
        "id": "vbHvzoaESSJx"
      },
      "execution_count": 2,
      "outputs": []
    },
    {
      "cell_type": "code",
      "source": [
        "X_train_np="
      ],
      "metadata": {
        "colab": {
          "base_uri": "https://localhost:8080/"
        },
        "id": "dBoCWyCYTFsD",
        "outputId": "4abbf92e-cdc9-4190-d32d-134256d5f408"
      },
      "execution_count": 3,
      "outputs": [
        {
          "output_type": "execute_result",
          "data": {
            "text/plain": [
              "<bound method NDFrame.head of       Unnamed: 0         0         1         2         3         4         5  \\\n",
              "0              0  2.546875  2.570312  2.574219  2.574219  2.574219  2.574219   \n",
              "1              1  2.546875  2.570312  2.574219  2.574219  2.574219  2.574219   \n",
              "2              2  2.546875  2.570312  2.574219  2.574219  2.574219  2.574219   \n",
              "3              3  2.546875  2.570312  2.574219  2.574219  2.574219  2.574219   \n",
              "4              4  2.546875  2.570312  2.574219  2.574219  2.574219  2.574219   \n",
              "...          ...       ...       ...       ...       ...       ...       ...   \n",
              "6980        6980  2.546875  2.570312  2.574219  2.687500  2.769531  4.285156   \n",
              "6981        6981  2.546875  2.570312  2.574219  2.574219  2.574219  2.574219   \n",
              "6982        6982  2.546875  2.570312  2.574219  2.574219  2.574219  2.574219   \n",
              "6983        6983  2.546875  2.570312  2.574219  2.574219  2.574219  2.574219   \n",
              "6984        6984  2.546875  2.570312  2.574219  3.613281  4.265625  7.453125   \n",
              "\n",
              "              6          7          8  ...         246         247  \\\n",
              "0      2.574219   2.574219   2.574219  ...    2.574219    2.574219   \n",
              "1      2.574219   2.574219   2.574219  ...   51.746094   44.640625   \n",
              "2      2.574219   2.574219   2.574219  ...  102.640625  107.390625   \n",
              "3      2.574219   2.574219   2.574219  ...   33.367188   26.000000   \n",
              "4      2.574219   2.574219   2.574219  ...   78.855469   88.394531   \n",
              "...         ...        ...        ...  ...         ...         ...   \n",
              "6980   5.582031   6.824219   8.339844  ...  209.789062  235.304688   \n",
              "6981   2.574219   2.574219   2.574219  ...  130.203125  135.304688   \n",
              "6982   2.574219   2.574219   2.574219  ...   66.097656   72.851562   \n",
              "6983   2.574219   2.574219   2.574219  ...  110.277344  107.156250   \n",
              "6984  10.261719  10.984375  12.027344  ...   69.484375   75.148438   \n",
              "\n",
              "             248         249         250         251         252         253  \\\n",
              "0       2.574219    2.574219    2.609375    2.640625    2.593750  204.488281   \n",
              "1      37.679688   31.937500   30.691406   29.402344   17.949219  204.488281   \n",
              "2     163.660156  211.191406  208.675781  205.847656  120.093750  204.488281   \n",
              "3      16.660156    8.753906   37.156250   69.554688   41.101562  204.488281   \n",
              "4     112.519531  132.925781  145.687500  160.566406   93.914062  204.488281   \n",
              "...          ...         ...         ...         ...         ...         ...   \n",
              "6980  202.082031  174.125000  155.023438  133.109375   78.031250  204.488281   \n",
              "6981  144.617188  152.582031  164.390625  178.132812  104.121094  204.488281   \n",
              "6982   86.695312   98.359375   96.730469   95.085938   56.128906  204.488281   \n",
              "6983   98.730469   91.703125   66.917969   38.589844   23.226562  204.488281   \n",
              "6984   78.406250   81.273438   68.843750   54.679688   32.515625  204.488281   \n",
              "\n",
              "        254    255  \n",
              "0     255.0  255.0  \n",
              "1     255.0  255.0  \n",
              "2     255.0  255.0  \n",
              "3     255.0  255.0  \n",
              "4     255.0  255.0  \n",
              "...     ...    ...  \n",
              "6980  255.0  255.0  \n",
              "6981  255.0  255.0  \n",
              "6982  255.0  255.0  \n",
              "6983  255.0  255.0  \n",
              "6984  255.0  255.0  \n",
              "\n",
              "[6985 rows x 257 columns]>"
            ]
          },
          "metadata": {},
          "execution_count": 3
        }
      ]
    },
    {
      "cell_type": "markdown",
      "source": [
        "CNN Modelin hazırlanması:"
      ],
      "metadata": {
        "id": "K_k1fkZQHUgp"
      }
    },
    {
      "cell_type": "code",
      "source": [
        "from tensorflow.keras.models import Sequential\n",
        "from tensorflow.keras.layers import Dense,Dropout,Activation,Flatten\n",
        "from tensorflow.keras.optimizers import Adam\n",
        "from sklearn import metrics"
      ],
      "metadata": {
        "id": "zPOGFj7pHe0x"
      },
      "execution_count": 5,
      "outputs": []
    },
    {
      "cell_type": "code",
      "source": [
        "num_labels=y.shape[1]"
      ],
      "metadata": {
        "id": "FdLzeSR9bFEe"
      },
      "execution_count": null,
      "outputs": []
    },
    {
      "cell_type": "code",
      "source": [
        "#Create a CNN Model\n",
        "model=Sequential()\n",
        "###first layer\n",
        "model.add(Dense(100,input_shape=(40,)))\n",
        "model.add(Activation('relu'))\n",
        "model.add(Dropout(0.5))\n",
        "###second layer\n",
        "model.add(Dense(200))\n",
        "model.add(Activation('relu'))\n",
        "model.add(Dropout(0.5))\n",
        "###third layer\n",
        "model.add(Dense(100))\n",
        "model.add(Activation('relu'))\n",
        "model.add(Dropout(0.5))\n",
        "\n",
        "###final layer\n",
        "model.add(Dense(10))\n",
        "model.add(Activation('softmax'))"
      ],
      "metadata": {
        "id": "DaJAie-uHO8Z"
      },
      "execution_count": 7,
      "outputs": []
    },
    {
      "cell_type": "code",
      "source": [
        "model.summary()"
      ],
      "metadata": {
        "colab": {
          "base_uri": "https://localhost:8080/"
        },
        "id": "L5TaEEgIMXTi",
        "outputId": "1cf23186-fca9-4aa8-967e-ff0ba34dce52"
      },
      "execution_count": 6,
      "outputs": [
        {
          "output_type": "stream",
          "name": "stdout",
          "text": [
            "Model: \"sequential_1\"\n",
            "_________________________________________________________________\n",
            " Layer (type)                Output Shape              Param #   \n",
            "=================================================================\n",
            " conv2d (Conv2D)             (None, 256, 256, 32)      896       \n",
            "                                                                 \n",
            " activation (Activation)     (None, 256, 256, 32)      0         \n",
            "                                                                 \n",
            " batch_normalization (BatchN  (None, 256, 256, 32)     128       \n",
            " ormalization)                                                   \n",
            "                                                                 \n",
            " max_pooling2d (MaxPooling2D  (None, 85, 85, 32)       0         \n",
            " )                                                               \n",
            "                                                                 \n",
            " dropout (Dropout)           (None, 85, 85, 32)        0         \n",
            "                                                                 \n",
            " conv2d_1 (Conv2D)           (None, 85, 85, 64)        18496     \n",
            "                                                                 \n",
            " activation_1 (Activation)   (None, 85, 85, 64)        0         \n",
            "                                                                 \n",
            " batch_normalization_1 (Batc  (None, 85, 85, 64)       256       \n",
            " hNormalization)                                                 \n",
            "                                                                 \n",
            " conv2d_2 (Conv2D)           (None, 85, 85, 64)        36928     \n",
            "                                                                 \n",
            " activation_2 (Activation)   (None, 85, 85, 64)        0         \n",
            "                                                                 \n",
            " batch_normalization_2 (Batc  (None, 85, 85, 64)       256       \n",
            " hNormalization)                                                 \n",
            "                                                                 \n",
            " max_pooling2d_1 (MaxPooling  (None, 42, 42, 64)       0         \n",
            " 2D)                                                             \n",
            "                                                                 \n",
            " dropout_1 (Dropout)         (None, 42, 42, 64)        0         \n",
            "                                                                 \n",
            " conv2d_3 (Conv2D)           (None, 42, 42, 128)       73856     \n",
            "                                                                 \n",
            " activation_3 (Activation)   (None, 42, 42, 128)       0         \n",
            "                                                                 \n",
            " batch_normalization_3 (Batc  (None, 42, 42, 128)      512       \n",
            " hNormalization)                                                 \n",
            "                                                                 \n",
            " conv2d_4 (Conv2D)           (None, 42, 42, 128)       147584    \n",
            "                                                                 \n",
            " activation_4 (Activation)   (None, 42, 42, 128)       0         \n",
            "                                                                 \n",
            " batch_normalization_4 (Batc  (None, 42, 42, 128)      512       \n",
            " hNormalization)                                                 \n",
            "                                                                 \n",
            " max_pooling2d_2 (MaxPooling  (None, 21, 21, 128)      0         \n",
            " 2D)                                                             \n",
            "                                                                 \n",
            " dropout_2 (Dropout)         (None, 21, 21, 128)       0         \n",
            "                                                                 \n",
            " flatten (Flatten)           (None, 56448)             0         \n",
            "                                                                 \n",
            " dense (Dense)               (None, 1024)              57803776  \n",
            "                                                                 \n",
            " activation_5 (Activation)   (None, 1024)              0         \n",
            "                                                                 \n",
            " batch_normalization_5 (Batc  (None, 1024)             4096      \n",
            " hNormalization)                                                 \n",
            "                                                                 \n",
            " dropout_3 (Dropout)         (None, 1024)              0         \n",
            "                                                                 \n",
            " dense_1 (Dense)             (None, 10)                10250     \n",
            "                                                                 \n",
            " activation_6 (Activation)   (None, 10)                0         \n",
            "                                                                 \n",
            "=================================================================\n",
            "Total params: 58,097,546\n",
            "Trainable params: 58,094,666\n",
            "Non-trainable params: 2,880\n",
            "_________________________________________________________________\n"
          ]
        }
      ]
    },
    {
      "cell_type": "markdown",
      "source": [
        "Verilerin okunması"
      ],
      "metadata": {
        "id": "uGfOfrmHMxIY"
      }
    },
    {
      "cell_type": "code",
      "source": [
        "import pandas as pd\n",
        "\n",
        "train_df=pd.read_csv(\"/content/Train.csv\")\n",
        "valid_df=pd.read_csv(\"/content/Validation.csv\")\n",
        "test_df=pd.read_csv(\"/content/Test.csv\")"
      ],
      "metadata": {
        "id": "zboSMMydM6rq"
      },
      "execution_count": 44,
      "outputs": []
    },
    {
      "cell_type": "code",
      "source": [
        "print(train_df.info)"
      ],
      "metadata": {
        "colab": {
          "base_uri": "https://localhost:8080/"
        },
        "id": "JBL2qCb_Nhqh",
        "outputId": "ce44a02c-b043-4f82-c175-33e80b6db81e"
      },
      "execution_count": 45,
      "outputs": [
        {
          "output_type": "stream",
          "name": "stdout",
          "text": [
            "<bound method DataFrame.info of       Unnamed: 0                                              image  \\\n",
            "0              0  [[255 255 142 ...   0   0   0]\\n [255 255 148 ...   \n",
            "1              1  [[255 255 142 ...   0   0   0]\\n [255 255 148 ...   \n",
            "2              2  [[255 255 142 ...   0   0   0]\\n [255 255 148 ...   \n",
            "3              3  [[255 255 142 ...   0   0   0]\\n [255 255 148 ...   \n",
            "4              4  [[255 255 142 ...   0   0   0]\\n [255 255 148 ...   \n",
            "...          ...                                                ...   \n",
            "6980        6980  [[255 255 142 ...   0   0   0]\\n [255 255 148 ...   \n",
            "6981        6981  [[255 255 142 ...   0   0   0]\\n [255 255 148 ...   \n",
            "6982        6982  [[255 255 142 ...   0   0   0]\\n [255 255 148 ...   \n",
            "6983        6983  [[255 255 142 ...   0   0   0]\\n [255 255 148 ...   \n",
            "6984        6984  [[255 255 142 ...   0   0   0]\\n [255 255 148 ...   \n",
            "\n",
            "                 label  \n",
            "0           jackhammer  \n",
            "1                siren  \n",
            "2             dog_bark  \n",
            "3      air_conditioner  \n",
            "4           jackhammer  \n",
            "...                ...  \n",
            "6980        jackhammer  \n",
            "6981  children_playing  \n",
            "6982          car_horn  \n",
            "6983        jackhammer  \n",
            "6984          car_horn  \n",
            "\n",
            "[6985 rows x 3 columns]>\n"
          ]
        }
      ]
    },
    {
      "cell_type": "code",
      "source": [
        "image=train_df.image.to_numpy()\n",
        "\n"
      ],
      "metadata": {
        "colab": {
          "base_uri": "https://localhost:8080/",
          "height": 334
        },
        "id": "qyigkQtKR8Xp",
        "outputId": "9d793e62-1578-4d38-cb35-85ae5ac5596b"
      },
      "execution_count": 51,
      "outputs": [
        {
          "output_type": "error",
          "ename": "ValueError",
          "evalue": "ignored",
          "traceback": [
            "\u001b[0;31m---------------------------------------------------------------------------\u001b[0m",
            "\u001b[0;31mValueError\u001b[0m                                Traceback (most recent call last)",
            "\u001b[0;32m<ipython-input-51-ae2f4ec54b4f>\u001b[0m in \u001b[0;36m<module>\u001b[0;34m\u001b[0m\n\u001b[0;32m----> 1\u001b[0;31m \u001b[0mimage\u001b[0m\u001b[0;34m=\u001b[0m\u001b[0mtrain_df\u001b[0m\u001b[0;34m.\u001b[0m\u001b[0mimage\u001b[0m\u001b[0;34m.\u001b[0m\u001b[0mto_numpy\u001b[0m\u001b[0;34m(\u001b[0m\u001b[0mdtype\u001b[0m\u001b[0;34m=\u001b[0m\u001b[0mint\u001b[0m\u001b[0;34m)\u001b[0m\u001b[0;34m\u001b[0m\u001b[0;34m\u001b[0m\u001b[0m\n\u001b[0m\u001b[1;32m      2\u001b[0m \u001b[0;34m\u001b[0m\u001b[0m\n",
            "\u001b[0;32m/usr/local/lib/python3.7/dist-packages/pandas/core/base.py\u001b[0m in \u001b[0;36mto_numpy\u001b[0;34m(self, dtype, copy, na_value, **kwargs)\u001b[0m\n\u001b[1;32m    525\u001b[0m         \u001b[0;31m# None, type, _SupportsDType, str, Union[Tuple[Any, int], Tuple[Any, Union[int,\u001b[0m\u001b[0;34m\u001b[0m\u001b[0;34m\u001b[0m\u001b[0;34m\u001b[0m\u001b[0m\n\u001b[1;32m    526\u001b[0m         \u001b[0;31m# Sequence[int]]], List[Any], _DTypeDict, Tuple[Any, Any]]]\"\u001b[0m\u001b[0;34m\u001b[0m\u001b[0;34m\u001b[0m\u001b[0;34m\u001b[0m\u001b[0m\n\u001b[0;32m--> 527\u001b[0;31m         \u001b[0mresult\u001b[0m \u001b[0;34m=\u001b[0m \u001b[0mnp\u001b[0m\u001b[0;34m.\u001b[0m\u001b[0masarray\u001b[0m\u001b[0;34m(\u001b[0m\u001b[0mself\u001b[0m\u001b[0;34m.\u001b[0m\u001b[0m_values\u001b[0m\u001b[0;34m,\u001b[0m \u001b[0mdtype\u001b[0m\u001b[0;34m=\u001b[0m\u001b[0mdtype\u001b[0m\u001b[0;34m)\u001b[0m  \u001b[0;31m# type: ignore[arg-type]\u001b[0m\u001b[0;34m\u001b[0m\u001b[0;34m\u001b[0m\u001b[0m\n\u001b[0m\u001b[1;32m    528\u001b[0m         \u001b[0;31m# TODO(GH-24345): Avoid potential double copy\u001b[0m\u001b[0;34m\u001b[0m\u001b[0;34m\u001b[0m\u001b[0;34m\u001b[0m\u001b[0m\n\u001b[1;32m    529\u001b[0m         \u001b[0;32mif\u001b[0m \u001b[0mcopy\u001b[0m \u001b[0;32mor\u001b[0m \u001b[0mna_value\u001b[0m \u001b[0;32mis\u001b[0m \u001b[0;32mnot\u001b[0m \u001b[0mlib\u001b[0m\u001b[0;34m.\u001b[0m\u001b[0mno_default\u001b[0m\u001b[0;34m:\u001b[0m\u001b[0;34m\u001b[0m\u001b[0;34m\u001b[0m\u001b[0m\n",
            "\u001b[0;31mValueError\u001b[0m: invalid literal for int() with base 10: '[[255 255 142 ...   0   0   0]\\n [255 255 148 ...   0   0   0]\\n [255 255 149 ...   0   0   0]\\n ...\\n [255 255 227 ... 204 204 204]\\n [255 255 255 ... 255 255 255]\\n [255 255 255 ... 255 255 255]]'"
          ]
        }
      ]
    },
    {
      "cell_type": "code",
      "source": [],
      "metadata": {
        "id": "7PQXaTRrSLQr"
      },
      "execution_count": null,
      "outputs": []
    },
    {
      "cell_type": "markdown",
      "source": [
        "AI4Life"
      ],
      "metadata": {
        "id": "KlIRdBu7HIzp"
      }
    }
  ]
}