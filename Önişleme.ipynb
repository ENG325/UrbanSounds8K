{
  "nbformat": 4,
  "nbformat_minor": 0,
  "metadata": {
    "colab": {
      "provenance": [],
      "collapsed_sections": []
    },
    "kernelspec": {
      "name": "python3",
      "display_name": "Python 3"
    },
    "language_info": {
      "name": "python"
    }
  },
  "cells": [
    {
      "cell_type": "markdown",
      "source": [
        "Önişleme\n"
      ],
      "metadata": {
        "id": "Ehm7q1B-oh6v"
      }
    },
    {
      "cell_type": "code",
      "source": [
        "from google.colab import drive\n",
        "drive.mount(\"/content/drive/\")"
      ],
      "metadata": {
        "colab": {
          "base_uri": "https://localhost:8080/"
        },
        "id": "jKuiVWjLLx3u",
        "outputId": "a1b297f8-b188-410f-bf19-edcaa1552106"
      },
      "execution_count": 2,
      "outputs": [
        {
          "output_type": "stream",
          "name": "stdout",
          "text": [
            "Mounted at /content/drive/\n"
          ]
        }
      ]
    },
    {
      "cell_type": "code",
      "source": [
        "\n",
        "from skimage import io \n",
        "\n",
        "import numpy as np\n"
      ],
      "metadata": {
        "id": "CG2_QjvXybxt"
      },
      "execution_count": 66,
      "outputs": []
    },
    {
      "cell_type": "code",
      "source": [
        "# Importing and Loading the data into a data frame\n",
        "\n",
        "dataset_path = '/content/drive/MyDrive/spectrograms'\n",
        "class_names = ['0', '1', '2', '3','4','5','6','7','8','9']\n",
        "#classes :- \n",
        "class_labels = {0:\"air_conditioner\", 1:\"car_horn\", 2:\"children_playing\", 3:\"dog_bark\", 4:\"drilling\", 5:\"enginge_idling\", 6:\"gun_shot\", 7:\"jackhammer\", 8:\"siren\", 9:\"street_music\"}\n",
        "\n",
        "\n",
        "\n"
      ],
      "metadata": {
        "id": "eCU1S6G7ygUN"
      },
      "execution_count": 4,
      "outputs": []
    },
    {
      "cell_type": "markdown",
      "source": [
        "Resimlerin yüklenmesi resizing, grayscale, normalization"
      ],
      "metadata": {
        "id": "sokMWzqc8sPM"
      }
    },
    {
      "cell_type": "code",
      "source": [
        "\n",
        "import os\n",
        "import cv2   \n",
        "Image_Size=(256,256)\n",
        "spectrogram_set = []\n",
        "\n",
        "for folder in os.listdir(dataset_path):\n",
        "  # Iterate through each image in our folder\n",
        "  for file in os.listdir(os.path.join(dataset_path,folder)):\n",
        "     # Get the path name of the image\n",
        "    img_path = os.path.join(os.path.join(dataset_path, folder), file)\n",
        "    image = cv2.imread(img_path)\n",
        "    #Grayscale\n",
        "    gray = cv2.cvtColor(image, cv2.COLOR_BGR2GRAY) \n",
        "    #Resize\n",
        "    resized_gray = cv2.resize(gray, Image_Size) \n",
        "    #Normalization\n",
        "    new_image = cv2.normalize(resized_gray, None, alpha=0,beta=255, norm_type=cv2.NORM_MINMAX)\n",
        "    #Creating Set\n",
        "    spectrogram_set.append([new_image,class_labels[int(folder)]])\n",
        "  "
      ],
      "metadata": {
        "id": "dIFQlLl-0qwW"
      },
      "execution_count": 33,
      "outputs": []
    },
    {
      "cell_type": "code",
      "source": [
        "len(spectrogram_set)"
      ],
      "metadata": {
        "colab": {
          "base_uri": "https://localhost:8080/"
        },
        "id": "7nU5aHg8pklP",
        "outputId": "3dc30faf-501b-4ac2-d0d6-42167ef15ce9"
      },
      "execution_count": 43,
      "outputs": [
        {
          "output_type": "execute_result",
          "data": {
            "text/plain": [
              "8732"
            ]
          },
          "metadata": {},
          "execution_count": 43
        }
      ]
    },
    {
      "cell_type": "code",
      "source": [
        "spectrogram_set=np.array(spectrogram_set,dtype=object)\n"
      ],
      "metadata": {
        "id": "3alXZoQOqJwQ"
      },
      "execution_count": 58,
      "outputs": []
    },
    {
      "cell_type": "code",
      "source": [
        "spectrogram_set.shape"
      ],
      "metadata": {
        "colab": {
          "base_uri": "https://localhost:8080/"
        },
        "id": "nLobwrCk5QqP",
        "outputId": "3c475754-753f-419c-8cf9-b4d4ee0a8a14"
      },
      "execution_count": 59,
      "outputs": [
        {
          "output_type": "execute_result",
          "data": {
            "text/plain": [
              "(8732, 2)"
            ]
          },
          "metadata": {},
          "execution_count": 59
        }
      ]
    },
    {
      "cell_type": "code",
      "source": [
        "from sklearn.model_selection import train_test_split\n",
        "#Split train 0.8, valid 0.1 and test 0.1 ratio\n",
        "X_train, X_rem, y_train, y_rem = train_test_split(spectrogram_set[:,0], spectrogram_set[:,1], train_size=0.8)\n",
        "X_test, X_valid, y_test, y_valid = train_test_split(X_rem, y_rem, test_size=0.5)\n"
      ],
      "metadata": {
        "id": "tOWw18YAOQ57"
      },
      "execution_count": 61,
      "outputs": []
    },
    {
      "cell_type": "code",
      "source": [
        "import pandas as pd\n",
        "train_data={\n",
        "    'image': X_train,\n",
        "    'label': y_train\n",
        "}\n",
        "train_data=pd.DataFrame(train_data)\n",
        "valid_data={\n",
        "    'image': X_valid,\n",
        "    'label': y_valid\n",
        "}\n",
        "valid_data=pd.DataFrame(valid_data)\n",
        "test_data={\n",
        "    'image': X_test,\n",
        "    'label': y_test\n",
        "}\n",
        "test_data=pd.DataFrame(test_data)"
      ],
      "metadata": {
        "id": "CoW1fKhH5wE-"
      },
      "execution_count": 64,
      "outputs": []
    },
    {
      "cell_type": "code",
      "source": [
        "train_data.to_csv(\"Train.csv\")\n",
        "valid_data.to_csv(\"Validation.csv\")\n",
        "test_data.to_csv(\"Test.csv\")"
      ],
      "metadata": {
        "id": "GTgNxQNK-G8e"
      },
      "execution_count": 65,
      "outputs": []
    }
  ]
}